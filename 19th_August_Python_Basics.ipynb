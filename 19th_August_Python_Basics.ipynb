{
 "cells": [
  {
   "cell_type": "code",
   "execution_count": 30,
   "id": "9cf63db4-77e5-4851-8e1e-0db1df954141",
   "metadata": {},
   "outputs": [
    {
     "name": "stdout",
     "output_type": "stream",
     "text": [
      "enter the length of rectangle\n"
     ]
    },
    {
     "name": "stdin",
     "output_type": "stream",
     "text": [
      " 6\n",
      " 7\n"
     ]
    },
    {
     "name": "stdout",
     "output_type": "stream",
     "text": [
      "\n",
      "area of rectangle= 42.0\n"
     ]
    }
   ],
   "source": [
    "'''Create a program that calculates the area of a rectangle. Take the length and\n",
    "width as inputs from the user and store them in variables. Calculate and\n",
    "display the area.'''\n",
    "v1=print(\"enter the length of rectangle\")\n",
    "l=float(input())\n",
    "v2=(\"enter the width of rectangle\")\n",
    "w=float(input())\n",
    "a=l*w\n",
    "print('\\narea of rectangle=',a)"
   ]
  },
  {
   "cell_type": "code",
   "execution_count": 31,
   "id": "70b3a92d-e610-4956-adcb-2de26eecbdd2",
   "metadata": {},
   "outputs": [
    {
     "name": "stdin",
     "output_type": "stream",
     "text": [
      "Enter temperature in celsius:  7\n"
     ]
    },
    {
     "name": "stdout",
     "output_type": "stream",
     "text": [
      "Temprature in fahrenheit: 44.6\n"
     ]
    }
   ],
   "source": [
    "'''Write a Python program that converts temperatures from Celsius to\n",
    "Fahrenheit. Take the temperature in Celsius as input, store it in a variable,\n",
    "convert it to Fahrenheit, and display the result.'''\n",
    "celsius = float(input(\"Enter temperature in celsius: \"))\n",
    "fahrenheit = (celsius * 1.8) + 32\n",
    "print(\"Temprature in fahrenheit:\",str(fahrenheit))\n"
   ]
  },
  {
   "cell_type": "code",
   "execution_count": 32,
   "id": "f35199ca-9b16-462d-9849-126ce7c801b4",
   "metadata": {},
   "outputs": [
    {
     "name": "stdin",
     "output_type": "stream",
     "text": [
      "enter x: 6\n",
      "enter y: 4\n"
     ]
    },
    {
     "name": "stdout",
     "output_type": "stream",
     "text": [
      "x: 4 y: 6\n"
     ]
    }
   ],
   "source": [
    "'''Declare two variables, `x` and `y`, and assign them integer values. Swap the\n",
    "values of these variables without using any temporary variable.'''\n",
    "x=int(input('enter x:'))\n",
    "y=int(input('enter y:'))\n",
    "x=x+y\n",
    "y=x-y\n",
    "x=x-y\n",
    "print(\"x:\",int(x),\"y:\",int(y))"
   ]
  },
  {
   "cell_type": "code",
   "execution_count": 33,
   "id": "63853b6f-dcbe-41e4-a46b-ddecb6c61536",
   "metadata": {},
   "outputs": [
    {
     "name": "stdin",
     "output_type": "stream",
     "text": [
      "Enter the string: karannn\n"
     ]
    },
    {
     "name": "stdout",
     "output_type": "stream",
     "text": [
      "7\n"
     ]
    }
   ],
   "source": [
    "'''Write a Python program that takes a string as input and prints the length of\n",
    "the string.'''\n",
    "string=str(input('Enter the string:'))\n",
    "print(len(string))"
   ]
  },
  {
   "cell_type": "code",
   "execution_count": 34,
   "id": "a9610d69-412f-4350-b121-0f1a1998bfa4",
   "metadata": {},
   "outputs": [
    {
     "name": "stdin",
     "output_type": "stream",
     "text": [
      "enter the sentence: karabdksj\n"
     ]
    },
    {
     "name": "stdout",
     "output_type": "stream",
     "text": [
      "2\n"
     ]
    }
   ],
   "source": [
    "'''Create a program that takes a sentence from the user and counts the number\n",
    "of vowels (a, e, i, o, u) in the string.'''\n",
    "s1=str(input('enter the sentence:'))\n",
    "vowels=\"aeiouAEIOU\"\n",
    "count=sum(s1.count(vowel)for vowel in vowels)\n",
    "print(count)"
   ]
  },
  {
   "cell_type": "code",
   "execution_count": 35,
   "id": "9775b5f5-f429-4d47-95f8-e36c909f303a",
   "metadata": {},
   "outputs": [
    {
     "name": "stdin",
     "output_type": "stream",
     "text": [
      "Enter the string: karan\n"
     ]
    },
    {
     "name": "stdout",
     "output_type": "stream",
     "text": [
      "Reverse of string: narak\n"
     ]
    }
   ],
   "source": [
    "'''Given a string, reverse the order of characters using string slicing and print\n",
    "the reversed string.'''\n",
    "string=str(input('Enter the string:'))\n",
    "print('Reverse of string:',string[::-1])\n"
   ]
  },
  {
   "cell_type": "code",
   "execution_count": 36,
   "id": "0482e629-0070-43f1-a5f5-feae81966f7e",
   "metadata": {},
   "outputs": [
    {
     "name": "stdin",
     "output_type": "stream",
     "text": [
      "enter the string:                 karan      \n"
     ]
    },
    {
     "name": "stdout",
     "output_type": "stream",
     "text": [
      "karan\n"
     ]
    }
   ],
   "source": [
    "'''Create a program that takes a string as input and removes all the spaces from\n",
    "it. Print the modified string without spaces.'''\n",
    "string=str(input('enter the string:'))\n",
    "s1=string.lstrip(' ')\n",
    "s2=s1.rstrip(\" \")\n",
    "print(s1.rstrip(\" \"))\n"
   ]
  },
  {
   "cell_type": "code",
   "execution_count": 27,
   "id": "b12b1620-ca96-42b6-97a9-dc6ef3bc1865",
   "metadata": {},
   "outputs": [
    {
     "name": "stdin",
     "output_type": "stream",
     "text": [
      "enter the string: dsfjkjdsf\n"
     ]
    },
    {
     "name": "stdout",
     "output_type": "stream",
     "text": [
      "dsfjkjdsf\n",
      "Reversed string 1: fsdjkjfsd\n",
      "The string is not a palindrome.\n"
     ]
    }
   ],
   "source": [
    "'''Write a program that takes a string as input and checks if it is a palindrome\n",
    "(reads the same forwards and backwards).'''\n",
    "string=str(input('enter the string:'))\n",
    "string1=string.casefold()\n",
    "print(string.casefold())\n",
    "string2=reversed(string1)\n",
    "print('Reversed string 1:',string1[::-1])\n",
    "if list(string1) == list(string2):\n",
    "   print(\"The string is a palindrome.\")\n",
    "else:\n",
    "   print(\"The string is not a palindrome.\")\n"
   ]
  }
 ],
 "metadata": {
  "kernelspec": {
   "display_name": "Python 3 (ipykernel)",
   "language": "python",
   "name": "python3"
  },
  "language_info": {
   "codemirror_mode": {
    "name": "ipython",
    "version": 3
   },
   "file_extension": ".py",
   "mimetype": "text/x-python",
   "name": "python",
   "nbconvert_exporter": "python",
   "pygments_lexer": "ipython3",
   "version": "3.10.8"
  }
 },
 "nbformat": 4,
 "nbformat_minor": 5
}
